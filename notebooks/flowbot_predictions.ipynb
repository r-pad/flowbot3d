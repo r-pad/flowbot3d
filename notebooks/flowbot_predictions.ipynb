{
 "cells": [
  {
   "cell_type": "code",
   "execution_count": null,
   "id": "52e4bada-eef4-4d8c-a651-11589331d889",
   "metadata": {},
   "outputs": [],
   "source": [
    "%load_ext autoreload\n",
    "%autoreload 2"
   ]
  },
  {
   "cell_type": "code",
   "execution_count": null,
   "id": "4c4d8a84-eb04-4165-acdb-959853a8cc4e",
   "metadata": {},
   "outputs": [],
   "source": [
    "import os\n",
    "import pandas as pd\n",
    "from pathlib import Path\n",
    "from IPython.display import display\n",
    "\n",
    "import torch\n",
    "import torch_geometric.data as tgd\n",
    "import rpad.partnet_mobility_utils.dataset as rpd\n",
    "\n",
    "import flowbot3d.tg_dataset as ftd\n",
    "import flowbot3d.models.flowbot3d as fmf"
   ]
  },
  {
   "cell_type": "markdown",
   "id": "456586da-7d32-4d0f-b410-b18f0b63f28c",
   "metadata": {},
   "source": [
    "# Make a prediction, and visualize the results.\n"
   ]
  },
  {
   "cell_type": "code",
   "execution_count": null,
   "id": "79d02604-2f36-4cee-8ba9-881e4acfab4b",
   "metadata": {
    "tags": []
   },
   "outputs": [],
   "source": [
    "# Create the dataset.\n",
    "dataset = ftd.Flowbot3DTGDataset(\n",
    "    root=os.path.expanduser(\"~/datasets/partnet-mobility/raw/\"),\n",
    "    split=\"umpnet-train-test\",\n",
    "    randomize_camera=False,\n",
    ")\n",
    "\n",
    "\n",
    "# Load the model.\n",
    "ckpt_path = \"../checkpoints/wandb/vermilion-lantern-25/epoch=99-step=78600.ckpt\"\n",
    "model = fmf.ArtFlowNet.load_from_checkpoint(ckpt_path).cuda()\n",
    "model.eval()\n",
    "\n",
    "# Run inference on a single example.\n",
    "data = dataset.get_data(\"100561\")\n",
    "batch = tgd.Batch.from_data_list([data])\n",
    "with torch.no_grad():\n",
    "    pred_flow = model(batch.cuda()).cpu()\n",
    "\n",
    "# Display the figure.\n",
    "fig = fmf.ArtFlowNet.make_plots(pred_flow, batch.cpu())[\"artflownet_plot\"]\n",
    "fig.update_layout(autosize=False, height=800, width=1200)\n",
    "fig"
   ]
  },
  {
   "cell_type": "markdown",
   "id": "67d59bb3-d2c5-4da4-8e44-0e3118f2e648",
   "metadata": {},
   "source": [
    "# Metrics for various ablations."
   ]
  },
  {
   "cell_type": "code",
   "execution_count": null,
   "id": "4da7699f-64b7-48d6-bf6c-8011a78ce020",
   "metadata": {},
   "outputs": [],
   "source": [
    "def make_tables(results_dir, method_names, metric, method_display_names=None, higherbetter=True):\n",
    "    dfs = []\n",
    "    if method_display_names is None:\n",
    "        method_display_names = method_names\n",
    "    for split in ['umpnet-train-train', 'umpnet-train-test', 'umpnet-test']:\n",
    "        rows = []\n",
    "        for method_name in method_names:\n",
    "            csv = Path(results_dir) / method_name / f\"{split}.csv\"\n",
    "            df = pd.read_csv(csv, index_col=0)\n",
    "            rows.append(df.loc[metric])\n",
    "        df = pd.DataFrame(rows, method_display_names)\n",
    "        df = df.style.set_caption(split)\n",
    "        if higherbetter:\n",
    "            df = df.highlight_max(color=\"lightblue\")\n",
    "        else:\n",
    "            df = df.highlight_min(color=\"lightblue\")\n",
    "        dfs.append(df)\n",
    "    return dfs\n",
    "        "
   ]
  },
  {
   "cell_type": "markdown",
   "id": "246ce4c1-a425-4c5d-9784-6028b9d8d82a",
   "metadata": {},
   "source": [
    "## RMSE"
   ]
  },
  {
   "cell_type": "code",
   "execution_count": null,
   "id": "a339ff0b-b322-4afc-8a9c-99089dd38c99",
   "metadata": {},
   "outputs": [],
   "source": [
    "results_dir = \"../results\"\n",
    "method_names = [\"f3d_mask_novpa\", \"f3d_nomask_vpa\", \"f3d_nomask_novpa\"]\n",
    "method_display_names = [\"FlowBot3D\", \"FlowBot3D w/o Mask\", \"FlowBot3D w/o Mask (+VPA)\"]\n",
    "metric = \"rmse\"\n",
    "dfs = make_tables(\"../results\", method_names, metric, method_display_names, higherbetter=False)\n",
    "for df in dfs:\n",
    "    display(df)"
   ]
  },
  {
   "cell_type": "markdown",
   "id": "5a39ff5b-9a7a-4b5b-8b94-20cbee017062",
   "metadata": {},
   "source": [
    "## Cosine Distance"
   ]
  },
  {
   "cell_type": "code",
   "execution_count": null,
   "id": "bd209dfe-2269-4eb3-8365-99c6ba3c2969",
   "metadata": {},
   "outputs": [],
   "source": [
    "results_dir = \"../results\"\n",
    "method_names = [\"f3d_mask_novpa\", \"f3d_nomask_vpa\", \"f3d_nomask_novpa\"]\n",
    "method_display_names = [\"FlowBot3D\", \"FlowBot3D w/o Mask\", \"FlowBot3D w/o Mask (+VPA)\"]\n",
    "metric = \"cos_dist\"\n",
    "dfs = make_tables(\"../results\", method_names, metric, method_display_names, higherbetter=True)\n",
    "for df in dfs:\n",
    "    display(df)"
   ]
  },
  {
   "cell_type": "markdown",
   "id": "381deba4-1f29-4c31-b579-798ba9d52384",
   "metadata": {},
   "source": [
    "## Flow Magnitude Error"
   ]
  },
  {
   "cell_type": "code",
   "execution_count": null,
   "id": "043b8f9a-be8a-421e-9b7a-b128abcff827",
   "metadata": {},
   "outputs": [],
   "source": [
    "results_dir = \"../results\"\n",
    "method_names = [\"f3d_mask_novpa\", \"f3d_nomask_vpa\", \"f3d_nomask_novpa\"]\n",
    "method_display_names = [\"FlowBot3D\", \"FlowBot3D w/o Mask\", \"FlowBot3D w/o Mask (+VPA)\"]\n",
    "metric = \"mag_error\"\n",
    "dfs = make_tables(\"../results\", method_names, metric, method_display_names, higherbetter=False)\n",
    "for df in dfs:\n",
    "    display(df)"
   ]
  }
 ],
 "metadata": {
  "kernelspec": {
   "display_name": "Python 3 (ipykernel)",
   "language": "python",
   "name": "python3"
  },
  "language_info": {
   "codemirror_mode": {
    "name": "ipython",
    "version": 3
   },
   "file_extension": ".py",
   "mimetype": "text/x-python",
   "name": "python",
   "nbconvert_exporter": "python",
   "pygments_lexer": "ipython3",
   "version": "3.8.13"
  }
 },
 "nbformat": 4,
 "nbformat_minor": 5
}
