{
 "cells": [
  {
   "cell_type": "code",
   "execution_count": null,
   "metadata": {},
   "outputs": [],
   "source": [
    "%load_ext autoreload\n",
    "%autoreload 2"
   ]
  },
  {
   "cell_type": "code",
   "execution_count": null,
   "metadata": {},
   "outputs": [],
   "source": [
    "import os\n",
    "from pathlib import Path\n",
    "\n",
    "import numpy as np\n",
    "\n",
    "import flowbot3d.dataset as f3d\n",
    "import flowbot3d.tg_dataset as f3tgd\n",
    "import rpad.visualize_3d.plots as v3p\n",
    "import rpad.partnet_mobility_utils.dataset as rpud\n",
    "import rpad.pyg.dataset as rpd"
   ]
  },
  {
   "cell_type": "code",
   "execution_count": null,
   "metadata": {},
   "outputs": [],
   "source": [
    "root = os.path.expanduser(\"~/datasets/partnet-mobility/raw\")\n",
    "split = \"umpnet-train-train\""
   ]
  },
  {
   "cell_type": "code",
   "execution_count": null,
   "metadata": {},
   "outputs": [],
   "source": [
    "# Create the dataset in online-generation mode.\n",
    "dset = f3d.Flowbot3DDataset(root=root, split=split)"
   ]
  },
  {
   "cell_type": "code",
   "execution_count": null,
   "metadata": {},
   "outputs": [],
   "source": [
    "# Generate.\n",
    "data = dset[20]\n",
    "v3p.flow_fig(data['pos'], data['flow'])"
   ]
  },
  {
   "cell_type": "code",
   "execution_count": null,
   "metadata": {},
   "outputs": [],
   "source": [
    "# Create the TG version.\n",
    "tg_dset = f3tgd.Flowbot3DTGDataset(root=root, split=split)"
   ]
  },
  {
   "cell_type": "code",
   "execution_count": null,
   "metadata": {},
   "outputs": [],
   "source": [
    "data = tg_dset[20]\n",
    "v3p.flow_fig(data.pos, data.flow)"
   ]
  },
  {
   "cell_type": "code",
   "execution_count": null,
   "metadata": {},
   "outputs": [],
   "source": [
    "cached_dset = rpd.CachedByKeyDataset(\n",
    "    dset_cls=f3tgd.Flowbot3DTGDataset,\n",
    "    dset_kwargs=dict(\n",
    "        root=root,\n",
    "        split=split,\n",
    "    ),\n",
    "    data_keys = list(zip(list(zip(*rpud.UMPNET_TRAIN_TRAIN_OBJS))[0])),\n",
    "    root=Path(root).parent,\n",
    "    processed_dirname=f3tgd.Flowbot3DTGDataset.get_processed_dir(\n",
    "        True, True\n",
    "    ),\n",
    "    n_repeat=100,\n",
    "    n_proc=-1,\n",
    ")"
   ]
  },
  {
   "cell_type": "code",
   "execution_count": null,
   "metadata": {},
   "outputs": [],
   "source": [
    "data = cached_dset[20]\n",
    "v3p.flow_fig(data.pos, data.flow)"
   ]
  },
  {
   "cell_type": "code",
   "execution_count": null,
   "metadata": {},
   "outputs": [],
   "source": []
  }
 ],
 "metadata": {
  "kernelspec": {
   "display_name": "flowbot3d-3.8",
   "language": "python",
   "name": "python3"
  },
  "language_info": {
   "codemirror_mode": {
    "name": "ipython",
    "version": 3
   },
   "file_extension": ".py",
   "mimetype": "text/x-python",
   "name": "python",
   "nbconvert_exporter": "python",
   "pygments_lexer": "ipython3",
   "version": "3.8.13 (default, May 17 2022, 19:42:15) \n[GCC 9.4.0]"
  },
  "vscode": {
   "interpreter": {
    "hash": "ebe1f551fbcda132ff3ccc41bff37ebc0f982aed869088cdce12e3b48fd3e5e4"
   }
  }
 },
 "nbformat": 4,
 "nbformat_minor": 2
}
