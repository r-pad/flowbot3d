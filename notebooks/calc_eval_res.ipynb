{
 "cells": [
  {
   "cell_type": "code",
   "execution_count": null,
   "metadata": {},
   "outputs": [],
   "source": [
    "import numpy as np\n",
    "import pandas as pd"
   ]
  },
  {
   "cell_type": "markdown",
   "metadata": {},
   "source": [
    "### Step 1. Load your evaluation result text file\n",
    "  * Note that every text file has the same format so the following code should work for all baselines' results.\n",
    "    * The exact format is `CLASS_LABEL: NORM_DIST` for each selected object id."
   ]
  },
  {
   "cell_type": "code",
   "execution_count": null,
   "metadata": {},
   "outputs": [],
   "source": [
    "data = pd.read_csv('../umpmetric_gtflow_unseen_res.txt', sep=\": \", header=None)\n",
    "data.columns = [\"Class\", \"Dist\"]\n",
    "data = data[data['Dist'] != \"False\"]\n",
    "data['Dist'] = pd.to_numeric(data['Dist'], errors='coerce')\n",
    "data.head(5)"
   ]
  },
  {
   "cell_type": "markdown",
   "metadata": {},
   "source": [
    "### Step 2. Group the class labels. Calculate the Normalized Distance.\n",
    "  * The Normalized Distance refers to the UMPNet Metric."
   ]
  },
  {
   "cell_type": "code",
   "execution_count": null,
   "metadata": {},
   "outputs": [],
   "source": [
    "meta = data.groupby('Class').mean().reset_index()\n",
    "meta['Dist'] = meta['Dist'].apply(lambda x: round(x, 2))\n",
    "meta"
   ]
  }
 ],
 "metadata": {
  "kernelspec": {
   "display_name": "Python 3 (ipykernel)",
   "language": "python",
   "name": "python3"
  },
  "language_info": {
   "codemirror_mode": {
    "name": "ipython",
    "version": 3
   },
   "file_extension": ".py",
   "mimetype": "text/x-python",
   "name": "python",
   "nbconvert_exporter": "python",
   "pygments_lexer": "ipython3",
   "version": "3.8.13"
  },
  "vscode": {
   "interpreter": {
    "hash": "0afa613c6965bc1f8e273ef99ed297f63dcdcb673b79f68a10a0a62897f4e2b9"
   }
  }
 },
 "nbformat": 4,
 "nbformat_minor": 4
}
