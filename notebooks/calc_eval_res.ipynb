{
 "cells": [
  {
   "cell_type": "code",
   "execution_count": null,
   "metadata": {},
   "outputs": [],
   "source": [
    "import numpy as np\n",
    "import pandas as pd"
   ]
  },
  {
   "cell_type": "code",
   "execution_count": null,
   "metadata": {},
   "outputs": [],
   "source": [
    "def load_table(path):\n",
    "    # Format is 'CLASS: DIST'\n",
    "    data = pd.read_csv(path, sep=\": \", header=None)\n",
    "    data.columns = [\"Class\", \"Dist\"]\n",
    "    data = data[data['Dist'] != \"False\"]\n",
    "    data['Dist'] = pd.to_numeric(data['Dist'], errors='coerce')\n",
    "    data['Succ'] = data['Dist'] < 0.1\n",
    "    \n",
    "    meta = data.groupby('Class').mean().reset_index()\n",
    "    meta = meta.set_index('Class')\n",
    "    meta['Dist'] = meta['Dist'].apply(lambda x: round(x, 2))\n",
    "    meta.loc[\"class_mean\"] = meta.mean()\n",
    "    meta.loc[\"unweighted_mean\"] = data.mean(numeric_only=True)\n",
    "    \n",
    "    return meta"
   ]
  },
  {
   "cell_type": "markdown",
   "metadata": {},
   "source": [
    "### Step 2. Group the class labels. Calculate the Normalized Distance.\n",
    "  * The Normalized Distance refers to the UMPNet Metric."
   ]
  },
  {
   "cell_type": "code",
   "execution_count": null,
   "metadata": {},
   "outputs": [],
   "source": [
    "load_table('../results/sapien_evals/flowbot_full_test/train_test/results.txt').T"
   ]
  },
  {
   "cell_type": "code",
   "execution_count": null,
   "metadata": {},
   "outputs": [],
   "source": [
    "load_table('../results/sapien_evals/flowbot_full_test/unseen/results.txt').T"
   ]
  },
  {
   "cell_type": "code",
   "execution_count": null,
   "metadata": {},
   "outputs": [],
   "source": []
  }
 ],
 "metadata": {
  "kernelspec": {
   "display_name": "Python 3 (ipykernel)",
   "language": "python",
   "name": "python3"
  },
  "language_info": {
   "codemirror_mode": {
    "name": "ipython",
    "version": 3
   },
   "file_extension": ".py",
   "mimetype": "text/x-python",
   "name": "python",
   "nbconvert_exporter": "python",
   "pygments_lexer": "ipython3",
   "version": "3.8.13"
  },
  "vscode": {
   "interpreter": {
    "hash": "0afa613c6965bc1f8e273ef99ed297f63dcdcb673b79f68a10a0a62897f4e2b9"
   }
  }
 },
 "nbformat": 4,
 "nbformat_minor": 4
}
